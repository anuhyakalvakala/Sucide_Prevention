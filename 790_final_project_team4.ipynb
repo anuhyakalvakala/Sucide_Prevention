{
 "cells": [
  {
   "cell_type": "code",
   "execution_count": 1,
   "metadata": {},
   "outputs": [],
   "source": [
    "from sklearn.feature_extraction.text import CountVectorizer\n",
    "from keras.preprocessing.text import Tokenizer\n",
    "from tensorflow.keras.preprocessing.sequence import pad_sequences\n",
    "from keras.models import Sequential\n",
    "from keras.layers import Dense, Embedding, LSTM, SpatialDropout1D\n",
    "from sklearn.model_selection import train_test_split\n",
    "from keras.utils.np_utils import to_categorical\n",
    "import pandas as pd\n",
    "import numpy as np\n",
    "import matplotlib.pyplot as plt\n",
    "import re\n",
    "from keras import layers\n",
    "import tensorflow as tf\n",
    "from keras.layers import Flatten\n",
    "from keras.layers import Dropout"
   ]
  },
  {
   "cell_type": "code",
   "execution_count": 2,
   "metadata": {},
   "outputs": [],
   "source": [
    "fb =pd.read_csv('/Users/anuhyakalvakala/Downloads/fb_sentiment_4.csv')"
   ]
  },
  {
   "cell_type": "code",
   "execution_count": 4,
   "metadata": {},
   "outputs": [
    {
     "data": {
      "text/html": [
       "<div>\n",
       "<style scoped>\n",
       "    .dataframe tbody tr th:only-of-type {\n",
       "        vertical-align: middle;\n",
       "    }\n",
       "\n",
       "    .dataframe tbody tr th {\n",
       "        vertical-align: top;\n",
       "    }\n",
       "\n",
       "    .dataframe thead th {\n",
       "        text-align: right;\n",
       "    }\n",
       "</style>\n",
       "<table border=\"1\" class=\"dataframe\">\n",
       "  <thead>\n",
       "    <tr style=\"text-align: right;\">\n",
       "      <th></th>\n",
       "      <th>Unnamed: 0</th>\n",
       "      <th>FBPost</th>\n",
       "      <th>Label</th>\n",
       "    </tr>\n",
       "  </thead>\n",
       "  <tbody>\n",
       "    <tr>\n",
       "      <th>0</th>\n",
       "      <td>0</td>\n",
       "      <td>Drug Runners and  a U.S. Senator have somethin...</td>\n",
       "      <td>O</td>\n",
       "    </tr>\n",
       "    <tr>\n",
       "      <th>1</th>\n",
       "      <td>1</td>\n",
       "      <td>Heres a single, to add, to Kindle. Just read t...</td>\n",
       "      <td>O</td>\n",
       "    </tr>\n",
       "    <tr>\n",
       "      <th>2</th>\n",
       "      <td>2</td>\n",
       "      <td>If you tire of Non-Fiction.. Check out http://...</td>\n",
       "      <td>O</td>\n",
       "    </tr>\n",
       "    <tr>\n",
       "      <th>3</th>\n",
       "      <td>3</td>\n",
       "      <td>Ghost of Round Island is supposedly nonfiction.</td>\n",
       "      <td>O</td>\n",
       "    </tr>\n",
       "    <tr>\n",
       "      <th>4</th>\n",
       "      <td>4</td>\n",
       "      <td>Why is Barnes and Nobles version of the Kindle...</td>\n",
       "      <td>N</td>\n",
       "    </tr>\n",
       "  </tbody>\n",
       "</table>\n",
       "</div>"
      ],
      "text/plain": [
       "   Unnamed: 0                                             FBPost Label\n",
       "0           0  Drug Runners and  a U.S. Senator have somethin...     O\n",
       "1           1  Heres a single, to add, to Kindle. Just read t...     O\n",
       "2           2  If you tire of Non-Fiction.. Check out http://...     O\n",
       "3           3    Ghost of Round Island is supposedly nonfiction.     O\n",
       "4           4  Why is Barnes and Nobles version of the Kindle...     N"
      ]
     },
     "execution_count": 4,
     "metadata": {},
     "output_type": "execute_result"
    }
   ],
   "source": [
    "fb.head()"
   ]
  },
  {
   "cell_type": "code",
   "execution_count": 5,
   "metadata": {},
   "outputs": [
    {
     "data": {
      "text/plain": [
       "Index(['unnamed: 0', 'fbpost', 'label'], dtype='object')"
      ]
     },
     "execution_count": 5,
     "metadata": {},
     "output_type": "execute_result"
    }
   ],
   "source": [
    "fb.columns = map(str.lower, fb.columns)\n",
    "fb.columns"
   ]
  },
  {
   "cell_type": "code",
   "execution_count": 6,
   "metadata": {},
   "outputs": [
    {
     "data": {
      "text/plain": [
       "(1000, 3)"
      ]
     },
     "execution_count": 6,
     "metadata": {},
     "output_type": "execute_result"
    }
   ],
   "source": [
    "fb.shape"
   ]
  },
  {
   "cell_type": "code",
   "execution_count": 7,
   "metadata": {},
   "outputs": [],
   "source": [
    "\n",
    "fb['fbpost'] = fb['fbpost'].apply(lambda x: x.lower())\n",
    "fb['fbpost'] = fb['fbpost'].apply((lambda x: re.sub('[^a-zA-z0-9\\s]','',x)))"
   ]
  },
  {
   "cell_type": "code",
   "execution_count": 8,
   "metadata": {},
   "outputs": [
    {
     "data": {
      "text/plain": [
       "0      drug runners and  a us senator have something ...\n",
       "1      heres a single to add to kindle just read this...\n",
       "2      if you tire of nonfiction check out httpwwwama...\n",
       "3         ghost of round island is supposedly nonfiction\n",
       "4      why is barnes and nobles version of the kindle...\n",
       "                             ...                        \n",
       "995    i liked it  its youth oriented and i think thi...\n",
       "996    i think the point of the commercial is that ev...\n",
       "997    kindle 3 is such a great product i could not b...\n",
       "998    develop a way to share books  that is a big dr...\n",
       "999                                    i love my kindle \n",
       "Name: fbpost, Length: 1000, dtype: object"
      ]
     },
     "execution_count": 8,
     "metadata": {},
     "output_type": "execute_result"
    }
   ],
   "source": [
    "fb['fbpost']"
   ]
  },
  {
   "cell_type": "code",
   "execution_count": 9,
   "metadata": {},
   "outputs": [],
   "source": [
    "fb = fb[fb.label != \"O\"]"
   ]
  },
  {
   "cell_type": "code",
   "execution_count": 150,
   "metadata": {},
   "outputs": [
    {
     "data": {
      "text/html": [
       "<div>\n",
       "<style scoped>\n",
       "    .dataframe tbody tr th:only-of-type {\n",
       "        vertical-align: middle;\n",
       "    }\n",
       "\n",
       "    .dataframe tbody tr th {\n",
       "        vertical-align: top;\n",
       "    }\n",
       "\n",
       "    .dataframe thead th {\n",
       "        text-align: right;\n",
       "    }\n",
       "</style>\n",
       "<table border=\"1\" class=\"dataframe\">\n",
       "  <thead>\n",
       "    <tr style=\"text-align: right;\">\n",
       "      <th></th>\n",
       "      <th>unnamed: 0</th>\n",
       "      <th>fbpost</th>\n",
       "      <th>label</th>\n",
       "    </tr>\n",
       "  </thead>\n",
       "  <tbody>\n",
       "    <tr>\n",
       "      <th>4</th>\n",
       "      <td>4</td>\n",
       "      <td>why is barnes and nobles version of the kindle...</td>\n",
       "      <td>N</td>\n",
       "    </tr>\n",
       "    <tr>\n",
       "      <th>5</th>\n",
       "      <td>5</td>\n",
       "      <td>maria  do you mean the nook  be careful books ...</td>\n",
       "      <td>P</td>\n",
       "    </tr>\n",
       "    <tr>\n",
       "      <th>6</th>\n",
       "      <td>6</td>\n",
       "      <td>kindle is awesome mines great</td>\n",
       "      <td>P</td>\n",
       "    </tr>\n",
       "    <tr>\n",
       "      <th>7</th>\n",
       "      <td>7</td>\n",
       "      <td>i love mine</td>\n",
       "      <td>P</td>\n",
       "    </tr>\n",
       "    <tr>\n",
       "      <th>8</th>\n",
       "      <td>8</td>\n",
       "      <td>meh i think singles are a bad idea big name au...</td>\n",
       "      <td>N</td>\n",
       "    </tr>\n",
       "    <tr>\n",
       "      <th>...</th>\n",
       "      <td>...</td>\n",
       "      <td>...</td>\n",
       "      <td>...</td>\n",
       "    </tr>\n",
       "    <tr>\n",
       "      <th>995</th>\n",
       "      <td>995</td>\n",
       "      <td>i liked it  its youth oriented and i think thi...</td>\n",
       "      <td>P</td>\n",
       "    </tr>\n",
       "    <tr>\n",
       "      <th>996</th>\n",
       "      <td>996</td>\n",
       "      <td>i think the point of the commercial is that ev...</td>\n",
       "      <td>P</td>\n",
       "    </tr>\n",
       "    <tr>\n",
       "      <th>997</th>\n",
       "      <td>997</td>\n",
       "      <td>kindle 3 is such a great product i could not b...</td>\n",
       "      <td>P</td>\n",
       "    </tr>\n",
       "    <tr>\n",
       "      <th>998</th>\n",
       "      <td>998</td>\n",
       "      <td>develop a way to share books  that is a big dr...</td>\n",
       "      <td>N</td>\n",
       "    </tr>\n",
       "    <tr>\n",
       "      <th>999</th>\n",
       "      <td>999</td>\n",
       "      <td>i love my kindle</td>\n",
       "      <td>P</td>\n",
       "    </tr>\n",
       "  </tbody>\n",
       "</table>\n",
       "<p>720 rows × 3 columns</p>\n",
       "</div>"
      ],
      "text/plain": [
       "     unnamed: 0                                             fbpost label\n",
       "4             4  why is barnes and nobles version of the kindle...     N\n",
       "5             5  maria  do you mean the nook  be careful books ...     P\n",
       "6             6                      kindle is awesome mines great     P\n",
       "7             7                                        i love mine     P\n",
       "8             8  meh i think singles are a bad idea big name au...     N\n",
       "..          ...                                                ...   ...\n",
       "995         995  i liked it  its youth oriented and i think thi...     P\n",
       "996         996  i think the point of the commercial is that ev...     P\n",
       "997         997  kindle 3 is such a great product i could not b...     P\n",
       "998         998  develop a way to share books  that is a big dr...     N\n",
       "999         999                                  i love my kindle      P\n",
       "\n",
       "[720 rows x 3 columns]"
      ]
     },
     "execution_count": 150,
     "metadata": {},
     "output_type": "execute_result"
    }
   ],
   "source": [
    "fb"
   ]
  },
  {
   "cell_type": "code",
   "execution_count": 10,
   "metadata": {},
   "outputs": [],
   "source": [
    "max_fatures = 2000\n",
    "tokenizer = Tokenizer(num_words=max_fatures, split=' ')\n",
    "tokenizer.fit_on_texts(fb['fbpost'].values)\n",
    "X = tokenizer.texts_to_sequences(fb['fbpost'].values)\n",
    "X = pad_sequences(X)"
   ]
  },
  {
   "cell_type": "code",
   "execution_count": 11,
   "metadata": {},
   "outputs": [
    {
     "data": {
      "text/plain": [
       "4      N\n",
       "5      P\n",
       "6      P\n",
       "7      P\n",
       "8      N\n",
       "      ..\n",
       "995    P\n",
       "996    P\n",
       "997    P\n",
       "998    N\n",
       "999    P\n",
       "Name: label, Length: 720, dtype: object"
      ]
     },
     "execution_count": 11,
     "metadata": {},
     "output_type": "execute_result"
    }
   ],
   "source": [
    "fb.label"
   ]
  },
  {
   "cell_type": "code",
   "execution_count": 12,
   "metadata": {},
   "outputs": [
    {
     "name": "stdout",
     "output_type": "stream",
     "text": [
      "(648, 203) (648, 2)\n",
      "(72, 203) (72, 2)\n"
     ]
    }
   ],
   "source": [
    "Y = pd.get_dummies(fb['label']).values\n",
    "X_train, X_test, Y_train, Y_test = train_test_split(X,Y, test_size = 0.10, random_state = 42)\n",
    "print(X_train.shape,Y_train.shape)\n",
    "print(X_test.shape,Y_test.shape)"
   ]
  },
  {
   "cell_type": "code",
   "execution_count": 13,
   "metadata": {},
   "outputs": [
    {
     "data": {
      "text/plain": [
       "array([[1, 0],\n",
       "       [0, 1],\n",
       "       [0, 1],\n",
       "       ...,\n",
       "       [0, 1],\n",
       "       [1, 0],\n",
       "       [0, 1]], dtype=uint8)"
      ]
     },
     "execution_count": 13,
     "metadata": {},
     "output_type": "execute_result"
    }
   ],
   "source": [
    "Y"
   ]
  },
  {
   "cell_type": "code",
   "execution_count": 14,
   "metadata": {},
   "outputs": [
    {
     "name": "stderr",
     "output_type": "stream",
     "text": [
      "2022-12-11 21:29:00.507118: I tensorflow/core/common_runtime/pluggable_device/pluggable_device_factory.cc:306] Could not identify NUMA node of platform GPU ID 0, defaulting to 0. Your kernel may not have been built with NUMA support.\n",
      "2022-12-11 21:29:00.507509: I tensorflow/core/common_runtime/pluggable_device/pluggable_device_factory.cc:272] Created TensorFlow device (/job:localhost/replica:0/task:0/device:GPU:0 with 0 MB memory) -> physical PluggableDevice (device: 0, name: METAL, pci bus id: <undefined>)\n"
     ]
    },
    {
     "name": "stdout",
     "output_type": "stream",
     "text": [
      "Metal device set to: Apple M1\n",
      "\n",
      "systemMemory: 8.00 GB\n",
      "maxCacheSize: 2.67 GB\n",
      "\n",
      "<bound method Model.summary of <keras.engine.sequential.Sequential object at 0x17c34e500>>\n",
      "Epoch 1/10\n"
     ]
    },
    {
     "name": "stderr",
     "output_type": "stream",
     "text": [
      "2022-12-11 21:29:00.826746: W tensorflow/core/platform/profile_utils/cpu_utils.cc:128] Failed to get CPU frequency: 0 Hz\n",
      "2022-12-11 21:29:01.056619: I tensorflow/core/grappler/optimizers/custom_graph_optimizer_registry.cc:114] Plugin optimizer for device_type GPU is enabled.\n",
      "2022-12-11 21:29:03.099809: I tensorflow/core/grappler/optimizers/custom_graph_optimizer_registry.cc:114] Plugin optimizer for device_type GPU is enabled.\n"
     ]
    },
    {
     "name": "stdout",
     "output_type": "stream",
     "text": [
      "65/65 - 3s - loss: 7.9443 - accuracy: 0.8287 - val_loss: 4.0405 - val_accuracy: 0.8056 - 3s/epoch - 39ms/step\n",
      "Epoch 2/10\n",
      "65/65 - 0s - loss: 1.7424 - accuracy: 0.9120 - val_loss: 6.1489 - val_accuracy: 0.8889 - 439ms/epoch - 7ms/step\n",
      "Epoch 3/10\n",
      "65/65 - 0s - loss: 0.7713 - accuracy: 0.9120 - val_loss: 4.1572 - val_accuracy: 0.8056 - 439ms/epoch - 7ms/step\n",
      "Epoch 4/10\n",
      "65/65 - 0s - loss: 0.5206 - accuracy: 0.9475 - val_loss: 3.5839 - val_accuracy: 0.8472 - 443ms/epoch - 7ms/step\n",
      "Epoch 5/10\n",
      "65/65 - 1s - loss: 0.2153 - accuracy: 0.9738 - val_loss: 3.9087 - val_accuracy: 0.8750 - 551ms/epoch - 8ms/step\n",
      "Epoch 6/10\n",
      "65/65 - 0s - loss: 0.2150 - accuracy: 0.9645 - val_loss: 3.7160 - val_accuracy: 0.8611 - 488ms/epoch - 8ms/step\n",
      "Epoch 7/10\n",
      "65/65 - 0s - loss: 0.2005 - accuracy: 0.9645 - val_loss: 3.6975 - val_accuracy: 0.8889 - 443ms/epoch - 7ms/step\n",
      "Epoch 8/10\n",
      "65/65 - 0s - loss: 0.1478 - accuracy: 0.9784 - val_loss: 3.5219 - val_accuracy: 0.8750 - 428ms/epoch - 7ms/step\n",
      "Epoch 9/10\n",
      "65/65 - 0s - loss: 0.1498 - accuracy: 0.9799 - val_loss: 3.4200 - val_accuracy: 0.8611 - 419ms/epoch - 6ms/step\n",
      "Epoch 10/10\n",
      "65/65 - 0s - loss: 0.2386 - accuracy: 0.9753 - val_loss: 3.5579 - val_accuracy: 0.8472 - 413ms/epoch - 6ms/step\n"
     ]
    }
   ],
   "source": [
    "embed_dim = 200\n",
    "lstm_out = 200\n",
    "\n",
    "model = Sequential()\n",
    "# model.add(Embedding(max_fatures, embed_dim,input_length = X.shape[1]))\n",
    "# model.add(SpatialDropout1D(0.4))\n",
    "# model.add(LSTM(lstm_out, dropout=0.2, recurrent_dropout=0.2))\n",
    "# model.add(Dense(2,activation='softmax'))\n",
    "# model.compile(loss = 'categorical_crossentropy', optimizer='adam',metrics = ['accuracy'])\n",
    "# print(model.summary())\n",
    "\n",
    "model.add(layers.Dense(256, activation='relu', input_shape=(X_train.shape[1],)))\n",
    "\n",
    "#model.add(layers.Dense(128, activation='relu', input_shape=(X_train.shape[1],)))\n",
    "model.add(layers.Dense(128, activation='relu'))\n",
    "# model.add(Dropout(0.2))\n",
    "# model.add(Flatten())\n",
    "model.add(layers.Dense(64, activation='relu'))\n",
    "#\n",
    "#model.add(layers.Dense(48, activation='relu'))\n",
    "#model.add(layers.Dense(12, activation='relu'))\n",
    "model.add(layers.Dense(2, activation='softmax'))\n",
    "print(model.summary)\n",
    "model.compile(optimizer='adam',loss='binary_crossentropy',metrics=['accuracy'])\n",
    "#classifier = model.fit(X_train,Y_train,epochs=100,batch_size=10,validation_data=(X_test, Y_test))\n",
    "batch_size = 10\n",
    "hist = model.fit(X_train, Y_train, epochs = 10, batch_size=batch_size, verbose = 2,validation_data=(X_test, Y_test))\n",
    "model.save('/Users/anuhyakalvakala/Desktop/sc/comment_model.h5')"
   ]
  },
  {
   "cell_type": "code",
   "execution_count": 141,
   "metadata": {},
   "outputs": [
    {
     "name": "stdout",
     "output_type": "stream",
     "text": [
      "INFO:tensorflow:Assets written to: ram://35239175-32a0-41e1-a3f2-2f934ecb78e6/assets\n"
     ]
    }
   ],
   "source": [
    "\n",
    "import pickle\n",
    "pickle.dump(model,open('/Users/anuhyakalvakala/Downloads/model_cmt.pkl','wb'))"
   ]
  },
  {
   "cell_type": "code",
   "execution_count": 156,
   "metadata": {},
   "outputs": [
    {
     "name": "stdout",
     "output_type": "stream",
     "text": [
      "Model: \"sequential_10\"\n",
      "_________________________________________________________________\n",
      " Layer (type)                Output Shape              Param #   \n",
      "=================================================================\n",
      " dense_45 (Dense)            (None, 256)               52224     \n",
      "                                                                 \n",
      " dense_46 (Dense)            (None, 128)               32896     \n",
      "                                                                 \n",
      " dense_47 (Dense)            (None, 64)                8256      \n",
      "                                                                 \n",
      " dense_48 (Dense)            (None, 2)                 130       \n",
      "                                                                 \n",
      "=================================================================\n",
      "Total params: 93,506\n",
      "Trainable params: 93,506\n",
      "Non-trainable params: 0\n",
      "_________________________________________________________________\n",
      "None\n"
     ]
    }
   ],
   "source": [
    "print(model.summary())"
   ]
  },
  {
   "cell_type": "code",
   "execution_count": 15,
   "metadata": {},
   "outputs": [
    {
     "name": "stdout",
     "output_type": "stream",
     "text": [
      "3/3 [==============================] - 0s 18ms/step - loss: 3.5579 - accuracy: 0.8472\n",
      "score: 3.56\n",
      "accuracy: 0.85\n"
     ]
    }
   ],
   "source": [
    "score,acc = model.evaluate(X_test,Y_test)\n",
    "print(\"score: %.2f\" % (score))\n",
    "print(\"accuracy: %.2f\" % (acc))"
   ]
  },
  {
   "cell_type": "code",
   "execution_count": 68,
   "metadata": {},
   "outputs": [
    {
     "name": "stdout",
     "output_type": "stream",
     "text": [
      "Epoch 1/7\n",
      "49/49 - 2s - loss: 1.5515 - accuracy: 0.8983 - 2s/epoch - 36ms/step\n",
      "Epoch 2/7\n",
      "49/49 - 0s - loss: 0.9121 - accuracy: 0.9004 - 473ms/epoch - 10ms/step\n",
      "Epoch 3/7\n",
      "49/49 - 0s - loss: 0.4169 - accuracy: 0.9315 - 451ms/epoch - 9ms/step\n",
      "Epoch 4/7\n",
      "49/49 - 0s - loss: 0.2897 - accuracy: 0.9523 - 371ms/epoch - 8ms/step\n",
      "Epoch 5/7\n",
      "49/49 - 0s - loss: 0.1769 - accuracy: 0.9627 - 391ms/epoch - 8ms/step\n",
      "Epoch 6/7\n",
      "49/49 - 0s - loss: 0.1356 - accuracy: 0.9689 - 368ms/epoch - 8ms/step\n",
      "Epoch 7/7\n",
      "49/49 - 0s - loss: 0.1305 - accuracy: 0.9751 - 380ms/epoch - 8ms/step\n"
     ]
    }
   ],
   "source": [
    "batch_size = 10\n",
    "hist = model.fit(X_train, Y_train, epochs = 7, batch_size=batch_size, verbose = 2)"
   ]
  },
  {
   "cell_type": "code",
   "execution_count": 85,
   "metadata": {},
   "outputs": [],
   "source": [
    "from sklearn import metrics\n",
    "from sklearn.metrics import roc_curve, auc\n",
    "from sklearn.metrics import roc_auc_score\n",
    "from scikitplot.metrics import plot_roc_curve\n",
    "from sklearn.metrics import plot_confusion_matrix\n",
    "from sklearn.metrics import ConfusionMatrixDisplay\n",
    "from sklearn.metrics import confusion_matrix\n",
    "from sklearn.metrics import classification_report\n",
    "from sklearn.metrics import accuracy_score\n",
    "import seaborn as sns"
   ]
  },
  {
   "cell_type": "code",
   "execution_count": 165,
   "metadata": {},
   "outputs": [
    {
     "name": "stdout",
     "output_type": "stream",
     "text": [
      "5/5 [==============================] - 0s 18ms/step\n"
     ]
    },
    {
     "name": "stderr",
     "output_type": "stream",
     "text": [
      "2022-12-10 19:05:14.067849: I tensorflow/core/grappler/optimizers/custom_graph_optimizer_registry.cc:114] Plugin optimizer for device_type GPU is enabled.\n"
     ]
    },
    {
     "name": "stdout",
     "output_type": "stream",
     "text": [
      "5/5 [==============================] - 0s 5ms/step\n",
      "Accuracy of neural network 0.8819444444444444\n"
     ]
    }
   ],
   "source": [
    "#prediction \n",
    "predictions = model.predict(X_test).argmax(axis=1)\n",
    "#pred_prob = model.predict_proba(X_test)\n",
    "predict_prob=model.predict(X_test)\n",
    "predict_classes=np.argmax(predict_prob,axis=1)\n",
    "new_y_test = Y_test.argmax(axis=1)#.astype(int)\n",
    "#print(predict_prob)\n",
    "#accuracy\n",
    "accuracy=accuracy_score(y_true=new_y_test, y_pred=predictions)\n",
    "print('Accuracy of neural network',accuracy)"
   ]
  },
  {
   "cell_type": "code",
   "execution_count": 164,
   "metadata": {},
   "outputs": [
    {
     "name": "stdout",
     "output_type": "stream",
     "text": [
      "              precision    recall  f1-score   support\n",
      "\n",
      "           0       0.25      0.10      0.15        29\n",
      "           1       0.88      0.96      0.92       209\n",
      "\n",
      "    accuracy                           0.85       238\n",
      "   macro avg       0.57      0.53      0.53       238\n",
      "weighted avg       0.81      0.85      0.83       238\n",
      "\n",
      "Confusion Matrix of neural networks\n",
      "[[  3  26]\n",
      " [  9 200]]\n"
     ]
    },
    {
     "data": {
      "image/png": "[encoded data removed]",
      "text/plain": [
       "<Figure size 1000x600 with 2 Axes>"
      ]
     },
     "metadata": {},
     "output_type": "display_data"
    }
   ],
   "source": [
    "\n",
    "#confusion matrix\n",
    "matrix = confusion_matrix(new_y_test, predictions)\n",
    "print(classification_report(new_y_test, predictions))\n",
    "print('Confusion Matrix of neural networks')\n",
    "print(matrix)\n",
    "# plt.figure()\n",
    "# plot_confusion_matrix(matrix,new_y_test,X)\n",
    "# plt.show()\n",
    "fig, ax = plt.subplots(figsize=(10, 6))\n",
    "# ax.set_title('Confusion Matrx for neural network')\n",
    "# ax.set_xlabel('Time label')\n",
    "# ax.set_ylabel('predicted label')\n",
    "plt.xlabel('Time label', axes=ax)\n",
    "plt.ylabel('predicted label', axes=ax)\n",
    "\n",
    "f = sns.heatmap(matrix, annot=True, fmt='d')"
   ]
  },
  {
   "cell_type": "code",
   "execution_count": 125,
   "metadata": {},
   "outputs": [
    {
     "data": {
      "text/plain": [
       "Text(95.72222222222221, 0.5, 'predicted label')"
      ]
     },
     "execution_count": 125,
     "metadata": {},
     "output_type": "execute_result"
    },
    {
     "data": {
      "image/png": "[encoded data removed]",
      "text/plain": [
       "<Figure size 1000x600 with 2 Axes>"
      ]
     },
     "metadata": {},
     "output_type": "display_data"
    }
   ],
   "source": [
    "fig, ax = plt.subplots(figsize=(10, 6))\n",
    "# ax.set_title('Confusion Matrx for neural network')\n",
    "# ax.set_xlabel('Time label')\n",
    "# ax.set_ylabel('predicted label')\n",
    "f = sns.heatmap(matrix, annot=True, fmt='d')\n",
    "plt.xlabel('Time label', axes=ax)\n",
    "plt.ylabel('predicted label', axes=ax)\n",
    "\n"
   ]
  },
  {
   "cell_type": "code",
   "execution_count": 18,
   "metadata": {},
   "outputs": [
    {
     "data": {
      "image/png": "[encoded data removed]",
      "text/plain": [
       "<Figure size 700x700 with 1 Axes>"
      ]
     },
     "metadata": {},
     "output_type": "display_data"
    }
   ],
   "source": [
    "#Plotting a histogram over the 7 epocs and plotting the accuracy and loss\n",
    "history = pd.DataFrame(classifier.history)\n",
    "plt.figure(figsize=(7,7));\n",
    "plt.plot(history[\"loss\"],label=\"loss\");\n",
    "plt.plot(history[\"accuracy\"],label='accuracy');\n",
    "plt.legend();\n",
    "plt.title(\"Loss and accuracy of model\");\n",
    "plt.show();\n"
   ]
  },
  {
   "cell_type": "code",
   "execution_count": 162,
   "metadata": {},
   "outputs": [
    {
     "data": {
      "text/plain": [
       "<matplotlib.legend.Legend at 0x2daaff6a0>"
      ]
     },
     "execution_count": 162,
     "metadata": {},
     "output_type": "execute_result"
    },
    {
     "data": {
      "image/png": "[encoded data removed]",
      "text/plain": [
       "<Figure size 640x480 with 1 Axes>"
      ]
     },
     "metadata": {},
     "output_type": "display_data"
    }
   ],
   "source": [
    " # Loss plotting\n",
    "plt.plot(hist.history['loss'])\n",
    "plt.plot(hist.history['val_loss'])\n",
    "plt.title('model loss')\n",
    "plt.ylabel('loss')\n",
    "plt.xlabel('epoch')\n",
    "plt.legend(['train', 'test'], loc='upper left')"
   ]
  },
  {
   "cell_type": "code",
   "execution_count": 163,
   "metadata": {},
   "outputs": [
    {
     "data": {
      "text/plain": [
       "<matplotlib.legend.Legend at 0x298e59120>"
      ]
     },
     "execution_count": 163,
     "metadata": {},
     "output_type": "execute_result"
    },
    {
     "data": {
      "image/png": "[encoded data removed]",
      "text/plain": [
       "<Figure size 640x480 with 1 Axes>"
      ]
     },
     "metadata": {},
     "output_type": "display_data"
    }
   ],
   "source": [
    " # Accuracy plotting\n",
    "plt.plot(hist.history['accuracy'])\n",
    "plt.plot(hist.history['val_accuracy'])\n",
    "plt.title('model accuracy')\n",
    "plt.ylabel('acc')\n",
    "plt.xlabel('epoch')\n",
    "plt.legend(['train', 'test'], loc='upper left')"
   ]
  },
  {
   "cell_type": "code",
   "execution_count": 72,
   "metadata": {},
   "outputs": [
    {
     "name": "stdout",
     "output_type": "stream",
     "text": [
      "8/8 [==============================] - 0s 8ms/step - loss: 1.9462 - accuracy: 0.8697\n",
      "score: 1.95\n",
      "accuracy: 0.87\n"
     ]
    }
   ],
   "source": [
    "score,acc = model.evaluate(X_test,Y_test)\n",
    "print(\"score: %.2f\" % (score))\n",
    "print(\"accuracy: %.2f\" % (acc))"
   ]
  },
  {
   "cell_type": "code",
   "execution_count": 20,
   "metadata": {},
   "outputs": [],
   "source": [
    "validation_size = 1500\n",
    "\n",
    "X_validate = X_test[-validation_size:]\n",
    "Y_validate = Y_test[-validation_size:]\n",
    "x_test = X_test[:-validation_size]\n",
    "y_test = Y_test[:-validation_size]"
   ]
  },
  {
   "cell_type": "code",
   "execution_count": 173,
   "metadata": {},
   "outputs": [
    {
     "name": "stdout",
     "output_type": "stream",
     "text": [
      "[[1775], [1], [], [1], [], [], [], [6], [], [207], [1775], [], [6]]\n",
      "[[   0    0    0 ...    0    0 1775]\n",
      " [   0    0    0 ...    0    0    1]\n",
      " [   0    0    0 ...    0    0    0]\n",
      " ...\n",
      " [   0    0    0 ...    0    0 1775]\n",
      " [   0    0    0 ...    0    0    0]\n",
      " [   0    0    0 ...    0    0    6]]\n",
      "7/7 - 0s - 58ms/epoch - 8ms/step\n",
      "1\n",
      "positive\n"
     ]
    }
   ],
   "source": [
    "#now testing  on a random sample from the Facebook comments on Kindle's page:\n",
    "cmnt = \"Hi i'm anuhya\"\n",
    "#cmnt =['Kill em.']\n",
    "#vectorizing the comment\n",
    "cmnt = tokenizer.texts_to_sequences(cmnt)\n",
    "print(cmnt)\n",
    "cmnt = pad_sequences(cmnt, maxlen=203, dtype='int32', value=0)\n",
    "print(cmnt)\n",
    "sentiment = model.predict(cmnt,batch_size=2,verbose = 2)[0]\n",
    "print(np.argmax(sentiment))\n",
    "if(np.argmax(sentiment) == 0):\n",
    "    print(\"negative\")\n",
    "elif (np.argmax(sentiment) == 1):\n",
    "    print(\"positive\")"
   ]
  },
  {
   "cell_type": "markdown",
   "metadata": {},
   "source": [
    "Logistic regression"
   ]
  },
  {
   "cell_type": "code",
   "execution_count": 88,
   "metadata": {},
   "outputs": [],
   "source": [
    "from sklearn.linear_model import LogisticRegression\n",
    "import pandas as pd\n",
    "import numpy as np\n",
    "import matplotlib.pyplot as plt\n",
    "from sklearn import datasets\n",
    "from sklearn import model_selection\n",
    "from sklearn import linear_model\n",
    "from sklearn import metrics\n",
    "from sklearn.preprocessing import LabelEncoder, StandardScaler"
   ]
  },
  {
   "cell_type": "code",
   "execution_count": 89,
   "metadata": {},
   "outputs": [
    {
     "name": "stdout",
     "output_type": "stream",
     "text": [
      "(482, 203) (482,)\n",
      "(238, 203) (238,)\n"
     ]
    }
   ],
   "source": [
    "genre_list = fb.iloc[:, -1]\n",
    "encoder = LabelEncoder()\n",
    "y = encoder.fit_transform(genre_list)\n",
    "# scaler = StandardScaler()\n",
    "# Y = pd.get_dummies(fb['label']).values\n",
    "X_train, X_test, Y_train, Y_test = train_test_split(X,y, test_size = 0.33, random_state = 42)\n",
    "print(X_train.shape,Y_train.shape)\n",
    "print(X_test.shape,Y_test.shape)\n"
   ]
  },
  {
   "cell_type": "code",
   "execution_count": 90,
   "metadata": {},
   "outputs": [
    {
     "data": {
      "text/plain": [
       "array([0, 1, 1, 1, 0, 1, 0, 1, 1, 1, 0, 1, 1, 1, 1, 1, 1, 1, 0, 1, 0, 0,\n",
       "       1, 1, 1, 1, 1, 1, 0, 1, 1, 1, 1, 0, 1, 1, 1, 1, 1, 1, 1, 1, 1, 1,\n",
       "       1, 1, 1, 1, 1, 1, 1, 1, 1, 1, 1, 1, 1, 1, 0, 1, 1, 1, 1, 1, 1, 1,\n",
       "       1, 1, 1, 1, 1, 1, 1, 1, 1, 1, 1, 1, 1, 1, 1, 1, 1, 1, 1, 1, 1, 1,\n",
       "       1, 1, 1, 1, 1, 1, 1, 1, 1, 1, 0, 1, 1, 1, 1, 1, 1, 1, 1, 1, 1, 1,\n",
       "       1, 1, 1, 1, 0, 1, 1, 1, 1, 1, 1, 1, 1, 1, 1, 1, 1, 1, 1, 1, 1, 1,\n",
       "       1, 1, 1, 1, 1, 1, 1, 1, 1, 0, 0, 1, 1, 0, 1, 1, 1, 1, 1, 1, 1, 1,\n",
       "       1, 1, 1, 1, 1, 1, 1, 1, 1, 1, 1, 1, 1, 0, 1, 1, 1, 1, 1, 1, 1, 1,\n",
       "       1, 1, 0, 0, 1, 1, 1, 1, 1, 1, 1, 1, 1, 1, 1, 1, 1, 1, 1, 1, 1, 1,\n",
       "       1, 1, 1, 1, 1, 1, 0, 1, 1, 1, 1, 1, 1, 1, 1, 1, 1, 1, 1, 1, 1, 0,\n",
       "       0, 1, 1, 1, 1, 0, 1, 1, 1, 0, 1, 1, 1, 0, 1, 1, 1, 1, 0, 1, 1, 1,\n",
       "       1, 1, 0, 1, 0, 1, 1, 1, 1, 1, 1, 1, 0, 0, 1, 0, 1, 1, 1, 1, 0, 1,\n",
       "       1, 1, 0, 1, 1, 1, 1, 1, 1, 1, 0, 1, 1, 1, 1, 1, 1, 1, 1, 1, 1, 1,\n",
       "       1, 1, 1, 1, 1, 1, 1, 1, 1, 1, 0, 1, 1, 0, 1, 0, 1, 1, 1, 1, 1, 1,\n",
       "       1, 1, 1, 1, 1, 1, 1, 1, 1, 0, 1, 1, 1, 1, 1, 1, 1, 1, 1, 1, 1, 1,\n",
       "       1, 1, 1, 1, 1, 1, 1, 1, 1, 1, 0, 1, 1, 1, 1, 1, 1, 1, 1, 1, 1, 1,\n",
       "       1, 1, 1, 1, 0, 0, 1, 1, 1, 1, 1, 1, 1, 1, 1, 1, 1, 0, 1, 1, 1, 1,\n",
       "       0, 1, 1, 1, 1, 0, 1, 1, 1, 1, 1, 1, 0, 0, 1, 1, 1, 1, 0, 1, 1, 1,\n",
       "       1, 1, 1, 1, 1, 1, 1, 1, 1, 1, 1, 1, 1, 1, 1, 1, 1, 1, 1, 0, 1, 1,\n",
       "       1, 1, 1, 1, 1, 1, 1, 1, 0, 1, 1, 1, 0, 1, 1, 1, 1, 1, 1, 1, 1, 1,\n",
       "       1, 1, 0, 1, 0, 1, 0, 1, 1, 1, 1, 0, 1, 1, 1, 0, 1, 1, 1, 1, 1, 1,\n",
       "       1, 1, 1, 1, 1, 1, 1, 1, 1, 1, 1, 1, 1, 1, 1, 1, 1, 1, 1, 1, 1, 1,\n",
       "       1, 1, 1, 1, 1, 1, 1, 1, 0, 1, 1, 1, 1, 1, 1, 1, 1, 1, 1, 1, 1, 1,\n",
       "       1, 1, 1, 1, 1, 1, 1, 1, 1, 1, 1, 0, 1, 1, 0, 1, 1, 0, 1, 1, 1, 1,\n",
       "       1, 1, 1, 1, 1, 1, 1, 1, 1, 1, 1, 1, 1, 0, 1, 1, 1, 1, 1, 1, 1, 1,\n",
       "       1, 1, 1, 1, 1, 1, 1, 1, 1, 1, 1, 1, 1, 1, 1, 1, 1, 1, 1, 1, 1, 1,\n",
       "       1, 1, 1, 1, 1, 1, 1, 1, 1, 1, 1, 1, 1, 1, 1, 1, 1, 1, 1, 1, 1, 1,\n",
       "       1, 1, 1, 1, 1, 1, 1, 1, 1, 0, 1, 1, 1, 1, 1, 1, 1, 1, 1, 1, 1, 1,\n",
       "       1, 1, 1, 1, 1, 0, 0, 1, 1, 1, 1, 0, 1, 1, 0, 1, 0, 1, 0, 1, 0, 1,\n",
       "       0, 1, 1, 1, 1, 1, 1, 1, 0, 1, 1, 1, 1, 1, 0, 0, 1, 0, 1, 1, 1, 1,\n",
       "       1, 1, 1, 1, 1, 0, 1, 1, 1, 1, 1, 0, 1, 1, 1, 1, 1, 1, 1, 1, 0, 1,\n",
       "       1, 1, 1, 1, 1, 1, 1, 1, 1, 1, 1, 1, 1, 1, 1, 1, 1, 1, 0, 1, 1, 1,\n",
       "       0, 1, 1, 1, 1, 1, 1, 1, 0, 1, 1, 1, 1, 1, 0, 1])"
      ]
     },
     "execution_count": 90,
     "metadata": {},
     "output_type": "execute_result"
    }
   ],
   "source": [
    "y"
   ]
  },
  {
   "cell_type": "code",
   "execution_count": 91,
   "metadata": {},
   "outputs": [
    {
     "data": {
      "text/plain": [
       "array([[1, 0],\n",
       "       [0, 1],\n",
       "       [0, 1],\n",
       "       ...,\n",
       "       [0, 1],\n",
       "       [1, 0],\n",
       "       [0, 1]], dtype=uint8)"
      ]
     },
     "execution_count": 91,
     "metadata": {},
     "output_type": "execute_result"
    }
   ],
   "source": [
    "Y"
   ]
  },
  {
   "cell_type": "code",
   "execution_count": 92,
   "metadata": {},
   "outputs": [
    {
     "name": "stderr",
     "output_type": "stream",
     "text": [
      "/Users/anuhyakalvakala/miniforge3/envs/ds/lib/python3.10/site-packages/sklearn/linear_model/_logistic.py:444: ConvergenceWarning: lbfgs failed to converge (status=1):\n",
      "STOP: TOTAL NO. of ITERATIONS REACHED LIMIT.\n",
      "\n",
      "Increase the number of iterations (max_iter) or scale the data as shown in:\n",
      "    https://scikit-learn.org/stable/modules/preprocessing.html\n",
      "Please also refer to the documentation for alternative solver options:\n",
      "    https://scikit-learn.org/stable/modules/linear_model.html#logistic-regression\n",
      "  n_iter_i = _check_optimize_result(\n"
     ]
    },
    {
     "data": {
      "text/html": [
       "<style>#sk-container-id-3 {color: black;background-color: white;}#sk-container-id-3 pre{padding: 0;}#sk-container-id-3 div.sk-toggleable {background-color: white;}#sk-container-id-3 label.sk-toggleable__label {cursor: pointer;display: block;width: 100%;margin-bottom: 0;padding: 0.3em;box-sizing: border-box;text-align: center;}#sk-container-id-3 label.sk-toggleable__label-arrow:before {content: \"▸\";float: left;margin-right: 0.25em;color: #696969;}#sk-container-id-3 label.sk-toggleable__label-arrow:hover:before {color: black;}#sk-container-id-3 div.sk-estimator:hover label.sk-toggleable__label-arrow:before {color: black;}#sk-container-id-3 div.sk-toggleable__content {max-height: 0;max-width: 0;overflow: hidden;text-align: left;background-color: #f0f8ff;}#sk-container-id-3 div.sk-toggleable__content pre {margin: 0.2em;color: black;border-radius: 0.25em;background-color: #f0f8ff;}#sk-container-id-3 input.sk-toggleable__control:checked~div.sk-toggleable__content {max-height: 200px;max-width: 100%;overflow: auto;}#sk-container-id-3 input.sk-toggleable__control:checked~label.sk-toggleable__label-arrow:before {content: \"▾\";}#sk-container-id-3 div.sk-estimator input.sk-toggleable__control:checked~label.sk-toggleable__label {background-color: #d4ebff;}#sk-container-id-3 div.sk-label input.sk-toggleable__control:checked~label.sk-toggleable__label {background-color: #d4ebff;}#sk-container-id-3 input.sk-hidden--visually {border: 0;clip: rect(1px 1px 1px 1px);clip: rect(1px, 1px, 1px, 1px);height: 1px;margin: -1px;overflow: hidden;padding: 0;position: absolute;width: 1px;}#sk-container-id-3 div.sk-estimator {font-family: monospace;background-color: #f0f8ff;border: 1px dotted black;border-radius: 0.25em;box-sizing: border-box;margin-bottom: 0.5em;}#sk-container-id-3 div.sk-estimator:hover {background-color: #d4ebff;}#sk-container-id-3 div.sk-parallel-item::after {content: \"\";width: 100%;border-bottom: 1px solid gray;flex-grow: 1;}#sk-container-id-3 div.sk-label:hover label.sk-toggleable__label {background-color: #d4ebff;}#sk-container-id-3 div.sk-serial::before {content: \"\";position: absolute;border-left: 1px solid gray;box-sizing: border-box;top: 0;bottom: 0;left: 50%;z-index: 0;}#sk-container-id-3 div.sk-serial {display: flex;flex-direction: column;align-items: center;background-color: white;padding-right: 0.2em;padding-left: 0.2em;position: relative;}#sk-container-id-3 div.sk-item {position: relative;z-index: 1;}#sk-container-id-3 div.sk-parallel {display: flex;align-items: stretch;justify-content: center;background-color: white;position: relative;}#sk-container-id-3 div.sk-item::before, #sk-container-id-3 div.sk-parallel-item::before {content: \"\";position: absolute;border-left: 1px solid gray;box-sizing: border-box;top: 0;bottom: 0;left: 50%;z-index: -1;}#sk-container-id-3 div.sk-parallel-item {display: flex;flex-direction: column;z-index: 1;position: relative;background-color: white;}#sk-container-id-3 div.sk-parallel-item:first-child::after {align-self: flex-end;width: 50%;}#sk-container-id-3 div.sk-parallel-item:last-child::after {align-self: flex-start;width: 50%;}#sk-container-id-3 div.sk-parallel-item:only-child::after {width: 0;}#sk-container-id-3 div.sk-dashed-wrapped {border: 1px dashed gray;margin: 0 0.4em 0.5em 0.4em;box-sizing: border-box;padding-bottom: 0.4em;background-color: white;}#sk-container-id-3 div.sk-label label {font-family: monospace;font-weight: bold;display: inline-block;line-height: 1.2em;}#sk-container-id-3 div.sk-label-container {text-align: center;}#sk-container-id-3 div.sk-container {/* jupyter's `normalize.less` sets `[hidden] { display: none; }` but bootstrap.min.css set `[hidden] { display: none !important; }` so we also need the `!important` here to be able to override the default hidden behavior on the sphinx rendered scikit-learn.org. See: https://github.com/scikit-learn/scikit-learn/issues/21755 */display: inline-block !important;position: relative;}#sk-container-id-3 div.sk-text-repr-fallback {display: none;}</style><div id=\"sk-container-id-3\" class=\"sk-top-container\"><div class=\"sk-text-repr-fallback\"><pre>LogisticRegression()</pre><b>In a Jupyter environment, please rerun this cell to show the HTML representation or trust the notebook. <br />On GitHub, the HTML representation is unable to render, please try loading this page with nbviewer.org.</b></div><div class=\"sk-container\" hidden><div class=\"sk-item\"><div class=\"sk-estimator sk-toggleable\"><input class=\"sk-toggleable__control sk-hidden--visually\" id=\"sk-estimator-id-3\" type=\"checkbox\" checked><label for=\"sk-estimator-id-3\" class=\"sk-toggleable__label sk-toggleable__label-arrow\">LogisticRegression</label><div class=\"sk-toggleable__content\"><pre>LogisticRegression()</pre></div></div></div></div></div>"
      ],
      "text/plain": [
       "LogisticRegression()"
      ]
     },
     "execution_count": 92,
     "metadata": {},
     "output_type": "execute_result"
    }
   ],
   "source": [
    "lm = linear_model.LogisticRegression()\n",
    "lm.fit(X_train, Y_train)"
   ]
  },
  {
   "cell_type": "code",
   "execution_count": 93,
   "metadata": {},
   "outputs": [
    {
     "data": {
      "text/plain": [
       "array([0, 1, 1, 1, 1, 1, 1, 0, 1, 1, 1, 1, 1, 1, 0, 1, 1, 0, 1, 1, 0, 1,\n",
       "       0, 1, 1, 1, 0, 1, 1, 1, 1, 1, 1, 1, 1, 0, 1, 1, 1, 1, 1, 1, 1, 0,\n",
       "       1, 1, 1, 1, 1, 1, 1, 1, 1, 1, 1, 1, 1, 1, 1, 1, 1, 0, 1, 1, 1, 1,\n",
       "       1, 1, 1, 1, 1, 1, 1, 1, 1, 1, 1, 1, 1, 1, 1, 1, 1, 0, 1, 1, 1, 1,\n",
       "       1, 1, 1, 1, 1, 1, 1, 1, 1, 1, 1, 1, 1, 1, 1, 1, 1, 0, 1, 1, 1, 1,\n",
       "       1, 1, 1, 1, 1, 1, 1, 1, 1, 1, 1, 1, 0, 1, 1, 1, 1, 0, 1, 1, 1, 1,\n",
       "       0, 1, 1, 1, 1, 0, 1, 1, 1, 1, 1, 1, 1, 1, 1, 1, 1, 1, 1, 1, 1, 1,\n",
       "       0, 1, 1, 1, 1, 1, 1, 1, 1, 1, 1, 1, 0, 1, 1, 0, 0, 1, 0, 1, 1, 1,\n",
       "       1, 1, 0, 1, 1, 0, 1, 1, 1, 1, 1, 1, 1, 1, 1, 1, 0, 1, 1, 1, 1, 1,\n",
       "       1, 1, 1, 1, 1, 1, 1, 0, 1, 1, 1, 1, 1, 1, 1, 1, 1, 1, 1, 1, 1, 1,\n",
       "       0, 1, 1, 1, 0, 1, 1, 1, 1, 1, 1, 0, 1, 1, 1, 1, 0, 1])"
      ]
     },
     "execution_count": 93,
     "metadata": {},
     "output_type": "execute_result"
    }
   ],
   "source": [
    "Y_test"
   ]
  },
  {
   "cell_type": "code",
   "execution_count": 94,
   "metadata": {},
   "outputs": [
    {
     "name": "stdout",
     "output_type": "stream",
     "text": [
      "Predicted value is = [1]\n",
      "Actual value from test data is  1\n"
     ]
    }
   ],
   "source": [
    "print('Predicted value is =', lm.predict([X_test[10]]))\n",
    "\n",
    "print('Actual value from test data is ' ,Y_test[10] )"
   ]
  },
  {
   "cell_type": "code",
   "execution_count": 95,
   "metadata": {},
   "outputs": [
    {
     "data": {
      "text/plain": [
       "0.8151260504201681"
      ]
     },
     "execution_count": 95,
     "metadata": {},
     "output_type": "execute_result"
    }
   ],
   "source": [
    "lm.score(X_test, Y_test)"
   ]
  },
  {
   "cell_type": "code",
   "execution_count": 96,
   "metadata": {},
   "outputs": [
    {
     "name": "stderr",
     "output_type": "stream",
     "text": [
      "/Users/anuhyakalvakala/miniforge3/envs/ds/lib/python3.10/site-packages/sklearn/utils/deprecation.py:87: FutureWarning: Function plot_confusion_matrix is deprecated; Function `plot_confusion_matrix` is deprecated in 1.0 and will be removed in 1.2. Use one of the class methods: ConfusionMatrixDisplay.from_predictions or ConfusionMatrixDisplay.from_estimator.\n",
      "  warnings.warn(msg, category=FutureWarning)\n"
     ]
    },
    {
     "data": {
      "text/plain": [
       "array([[  7,  22],\n",
       "       [ 22, 187]])"
      ]
     },
     "execution_count": 96,
     "metadata": {},
     "output_type": "execute_result"
    },
    {
     "data": {
      "image/png": "[encoded data removed]",
      "text/plain": [
       "<Figure size 1000x600 with 2 Axes>"
      ]
     },
     "metadata": {},
     "output_type": "display_data"
    }
   ],
   "source": [
    "#Creating matplotlib axes object to assign figuresize and figure title\n",
    "fig, ax = plt.subplots(figsize=(10, 6))\n",
    "ax.set_title('Confusion Matrx')\n",
    "\n",
    "disp =metrics.plot_confusion_matrix(lm, X_test, Y_test, ax = ax)\n",
    "disp.confusion_matrix"
   ]
  },
  {
   "cell_type": "code",
   "execution_count": 97,
   "metadata": {},
   "outputs": [
    {
     "name": "stdout",
     "output_type": "stream",
     "text": [
      "              precision    recall  f1-score   support\n",
      "\n",
      "           0       0.24      0.24      0.24        29\n",
      "           1       0.89      0.89      0.89       209\n",
      "\n",
      "    accuracy                           0.82       238\n",
      "   macro avg       0.57      0.57      0.57       238\n",
      "weighted avg       0.82      0.82      0.82       238\n",
      "\n"
     ]
    }
   ],
   "source": [
    "print(metrics.classification_report(Y_test, lm.predict(X_test)))"
   ]
  },
  {
   "cell_type": "markdown",
   "metadata": {},
   "source": [
    "#face recognition"
   ]
  },
  {
   "cell_type": "code",
   "execution_count": 2,
   "metadata": {},
   "outputs": [
    {
     "name": "stdout",
     "output_type": "stream",
     "text": [
      "Collecting deepface\n",
      "  Using cached deepface-0.0.75-py3-none-any.whl (65 kB)\n",
      "Collecting fire>=0.4.0\n",
      "  Using cached fire-0.4.0.tar.gz (87 kB)\n",
      "  Preparing metadata (setup.py) ... \u001b[?25ldone\n",
      "\u001b[?25hRequirement already satisfied: numpy>=1.14.0 in /Users/anuhyakalvakala/miniforge3/envs/ds/lib/python3.10/site-packages (from deepface) (1.23.5)\n",
      "Requirement already satisfied: tqdm>=4.30.0 in /Users/anuhyakalvakala/miniforge3/envs/ds/lib/python3.10/site-packages (from deepface) (4.64.1)\n",
      "Collecting gdown>=3.10.1\n",
      "  Using cached gdown-4.5.4-py3-none-any.whl (14 kB)\n",
      "Requirement already satisfied: keras>=2.2.0 in /Users/anuhyakalvakala/miniforge3/envs/ds/lib/python3.10/site-packages (from deepface) (2.10.0)\n",
      "Requirement already satisfied: pandas>=0.23.4 in /Users/anuhyakalvakala/miniforge3/envs/ds/lib/python3.10/site-packages (from deepface) (1.5.1)\n",
      "Requirement already satisfied: Flask>=1.1.2 in /Users/anuhyakalvakala/miniforge3/envs/ds/lib/python3.10/site-packages (from deepface) (2.1.3)\n",
      "Requirement already satisfied: Pillow>=5.2.0 in /Users/anuhyakalvakala/miniforge3/envs/ds/lib/python3.10/site-packages (from deepface) (9.2.0)\n",
      "Collecting mtcnn>=0.1.0\n",
      "  Using cached mtcnn-0.1.1-py3-none-any.whl (2.3 MB)\n",
      "Collecting retina-face>=0.0.1\n",
      "  Using cached retina_face-0.0.12-py3-none-any.whl (15 kB)\n",
      "Collecting deepface\n",
      "  Using cached deepface-0.0.74-py3-none-any.whl (63 kB)\n",
      "Requirement already satisfied: opencv-python>=3.4.4 in /Users/anuhyakalvakala/miniforge3/envs/ds/lib/python3.10/site-packages (from deepface) (4.6.0.66)\n",
      "  Using cached deepface-0.0.73-py3-none-any.whl (63 kB)\n",
      "  Using cached deepface-0.0.72-py3-none-any.whl (62 kB)\n",
      "  Using cached deepface-0.0.71-py3-none-any.whl (62 kB)\n",
      "  Using cached deepface-0.0.70-py3-none-any.whl (62 kB)\n",
      "  Using cached deepface-0.0.69-py3-none-any.whl (62 kB)\n",
      "  Using cached deepface-0.0.68-py3-none-any.whl (61 kB)\n",
      "  Using cached deepface-0.0.67-py3-none-any.whl (61 kB)\n",
      "  Using cached deepface-0.0.66-py3-none-any.whl (61 kB)\n",
      "  Using cached deepface-0.0.65-py3-none-any.whl (59 kB)\n",
      "  Using cached deepface-0.0.64-py3-none-any.whl (59 kB)\n",
      "  Using cached deepface-0.0.63-py3-none-any.whl (60 kB)\n",
      "  Using cached deepface-0.0.62-py3-none-any.whl (60 kB)\n",
      "  Using cached deepface-0.0.61-py3-none-any.whl (60 kB)\n",
      "  Using cached deepface-0.0.60-py3-none-any.whl (60 kB)\n",
      "  Using cached deepface-0.0.59-py3-none-any.whl (60 kB)\n",
      "  Using cached deepface-0.0.58-py3-none-any.whl (60 kB)\n",
      "  Using cached deepface-0.0.57-py3-none-any.whl (60 kB)\n",
      "  Using cached deepface-0.0.56-py3-none-any.whl (60 kB)\n",
      "  Using cached deepface-0.0.55-py3-none-any.whl (60 kB)\n",
      "  Using cached deepface-0.0.54-py3-none-any.whl (60 kB)\n",
      "  Using cached deepface-0.0.53-py3-none-any.whl (59 kB)\n",
      "  Using cached deepface-0.0.52-py3-none-any.whl (59 kB)\n",
      "  Using cached deepface-0.0.51-py3-none-any.whl (57 kB)\n",
      "  Using cached deepface-0.0.50-py3-none-any.whl (56 kB)\n",
      "  Using cached deepface-0.0.49-py3-none-any.whl (55 kB)\n",
      "  Using cached deepface-0.0.48-py3-none-any.whl (54 kB)\n",
      "  Using cached deepface-0.0.47-py3-none-any.whl (55 kB)\n",
      "  Using cached deepface-0.0.46-py3-none-any.whl (53 kB)\n",
      "  Using cached deepface-0.0.45-py3-none-any.whl (52 kB)\n",
      "  Using cached deepface-0.0.44-py3-none-any.whl (52 kB)\n",
      "  Using cached deepface-0.0.43-py3-none-any.whl (51 kB)\n",
      "  Using cached deepface-0.0.41-py3-none-any.whl (50 kB)\n",
      "  Using cached deepface-0.0.40-py3-none-any.whl (51 kB)\n",
      "  Using cached deepface-0.0.39-py3-none-any.whl (52 kB)\n",
      "  Using cached deepface-0.0.38-py3-none-any.whl (52 kB)\n",
      "  Using cached deepface-0.0.37-py3-none-any.whl (51 kB)\n",
      "  Using cached deepface-0.0.36-py3-none-any.whl (51 kB)\n",
      "  Using cached deepface-0.0.35-py3-none-any.whl (51 kB)\n",
      "  Using cached deepface-0.0.34-py3-none-any.whl (51 kB)\n",
      "  Using cached deepface-0.0.33-py3-none-any.whl (49 kB)\n",
      "  Using cached deepface-0.0.32-py3-none-any.whl (50 kB)\n",
      "  Using cached deepface-0.0.31-py3-none-any.whl (32 kB)\n",
      "  Using cached deepface-0.0.30-py3-none-any.whl (33 kB)\n",
      "  Using cached deepface-0.0.26-py3-none-any.whl (32 kB)\n",
      "  Using cached deepface-0.0.25-py3-none-any.whl (32 kB)\n",
      "  Using cached deepface-0.0.24-py3-none-any.whl (30 kB)\n",
      "  Using cached deepface-0.0.23-py3-none-any.whl (29 kB)\n",
      "  Using cached deepface-0.0.22-py3-none-any.whl (28 kB)\n",
      "  Using cached deepface-0.0.21-py3-none-any.whl (27 kB)\n",
      "  Using cached deepface-0.0.20-py3-none-any.whl (27 kB)\n",
      "  Using cached deepface-0.0.19-py3-none-any.whl (26 kB)\n",
      "  Using cached deepface-0.0.18-py3-none-any.whl (26 kB)\n",
      "  Using cached deepface-0.0.16-py3-none-any.whl (26 kB)\n",
      "  Using cached deepface-0.0.15-py3-none-any.whl (26 kB)\n",
      "  Using cached deepface-0.0.14-py3-none-any.whl (26 kB)\n",
      "Requirement already satisfied: matplotlib>=2.2.2 in /Users/anuhyakalvakala/miniforge3/envs/ds/lib/python3.10/site-packages (from deepface) (3.5.3)\n",
      "  Using cached deepface-0.0.13-py3-none-any.whl (26 kB)\n",
      "  Using cached deepface-0.0.12-py3-none-any.whl (26 kB)\n",
      "  Using cached deepface-0.0.11-py3-none-any.whl (26 kB)\n",
      "  Using cached deepface-0.0.10-py3-none-any.whl (22 kB)\n",
      "  Using cached deepface-0.0.9-py3-none-any.whl (20 kB)\n",
      "  Using cached deepface-0.0.7-py3-none-any.whl (20 kB)\n",
      "  Using cached deepface-0.0.6-py3-none-any.whl (20 kB)\n",
      "  Using cached deepface-0.0.5-py3-none-any.whl (19 kB)\n",
      "  Using cached deepface-0.0.4-py3-none-any.whl (18 kB)\n",
      "  Using cached deepface-0.0.3-py3-none-any.whl (17 kB)\n",
      "  Using cached deepface-0.0.2-py3-none-any.whl (17 kB)\n",
      "  Using cached deepface-0.0.1-py3-none-any.whl (12 kB)\n",
      "\u001b[31mERROR: Cannot install deepface==0.0.1, deepface==0.0.10, deepface==0.0.11, deepface==0.0.12, deepface==0.0.13, deepface==0.0.14, deepface==0.0.15, deepface==0.0.16, deepface==0.0.18, deepface==0.0.19, deepface==0.0.2, deepface==0.0.20, deepface==0.0.21, deepface==0.0.22, deepface==0.0.23, deepface==0.0.24, deepface==0.0.25, deepface==0.0.26, deepface==0.0.3, deepface==0.0.30, deepface==0.0.31, deepface==0.0.32, deepface==0.0.33, deepface==0.0.34, deepface==0.0.35, deepface==0.0.36, deepface==0.0.37, deepface==0.0.38, deepface==0.0.39, deepface==0.0.4, deepface==0.0.40, deepface==0.0.41, deepface==0.0.43, deepface==0.0.44, deepface==0.0.45, deepface==0.0.46, deepface==0.0.47, deepface==0.0.48, deepface==0.0.49, deepface==0.0.5, deepface==0.0.50, deepface==0.0.51, deepface==0.0.52, deepface==0.0.53, deepface==0.0.54, deepface==0.0.55, deepface==0.0.56, deepface==0.0.57, deepface==0.0.58, deepface==0.0.59, deepface==0.0.6, deepface==0.0.60, deepface==0.0.61, deepface==0.0.62, deepface==0.0.63, deepface==0.0.64, deepface==0.0.65, deepface==0.0.66, deepface==0.0.67, deepface==0.0.68, deepface==0.0.69, deepface==0.0.7, deepface==0.0.70, deepface==0.0.71, deepface==0.0.72, deepface==0.0.73, deepface==0.0.74, deepface==0.0.75 and deepface==0.0.9 because these package versions have conflicting dependencies.\u001b[0m\u001b[31m\n",
      "\u001b[0m\n",
      "The conflict is caused by:\n",
      "    deepface 0.0.75 depends on tensorflow>=1.9.0\n",
      "    deepface 0.0.74 depends on tensorflow>=1.9.0\n",
      "    deepface 0.0.73 depends on tensorflow>=1.9.0\n",
      "    deepface 0.0.72 depends on tensorflow>=1.9.0\n",
      "    deepface 0.0.71 depends on tensorflow>=1.9.0\n",
      "    deepface 0.0.70 depends on tensorflow>=1.9.0\n",
      "    deepface 0.0.69 depends on tensorflow>=1.9.0\n",
      "    deepface 0.0.68 depends on tensorflow>=1.9.0\n",
      "    deepface 0.0.67 depends on tensorflow>=1.9.0\n",
      "    deepface 0.0.66 depends on tensorflow>=1.9.0\n",
      "    deepface 0.0.65 depends on tensorflow>=1.9.0\n",
      "    deepface 0.0.64 depends on tensorflow>=1.9.0\n",
      "    deepface 0.0.63 depends on tensorflow>=1.9.0\n",
      "    deepface 0.0.62 depends on tensorflow>=1.9.0\n",
      "    deepface 0.0.61 depends on tensorflow>=1.9.0\n",
      "    deepface 0.0.60 depends on tensorflow>=1.9.0\n",
      "    deepface 0.0.59 depends on tensorflow>=1.9.0\n",
      "    deepface 0.0.58 depends on tensorflow>=1.9.0\n",
      "    deepface 0.0.57 depends on tensorflow>=1.9.0\n",
      "    deepface 0.0.56 depends on tensorflow>=1.9.0\n",
      "    deepface 0.0.55 depends on tensorflow>=1.9.0\n",
      "    deepface 0.0.54 depends on tensorflow>=1.9.0\n",
      "    deepface 0.0.53 depends on tensorflow>=1.9.0\n",
      "    deepface 0.0.52 depends on tensorflow>=1.9.0\n",
      "    deepface 0.0.51 depends on tensorflow>=1.9.0\n",
      "    deepface 0.0.50 depends on tensorflow>=1.9.0\n",
      "    deepface 0.0.49 depends on tensorflow>=1.9.0\n",
      "    deepface 0.0.48 depends on tensorflow>=1.9.0\n",
      "    deepface 0.0.47 depends on tensorflow>=1.9.0\n",
      "    deepface 0.0.46 depends on tensorflow>=1.9.0\n",
      "    deepface 0.0.45 depends on tensorflow>=1.9.0\n",
      "    deepface 0.0.44 depends on tensorflow>=1.9.0\n",
      "    deepface 0.0.43 depends on tensorflow>=1.9.0\n",
      "    deepface 0.0.41 depends on tensorflow>=1.9.0\n",
      "    deepface 0.0.40 depends on tensorflow>=1.9.0\n",
      "    deepface 0.0.39 depends on tensorflow>=1.9.0\n",
      "    deepface 0.0.38 depends on tensorflow>=1.9.0\n",
      "    deepface 0.0.37 depends on tensorflow>=1.9.0\n",
      "    deepface 0.0.36 depends on tensorflow>=1.9.0\n",
      "    deepface 0.0.35 depends on tensorflow>=1.9.0\n",
      "    deepface 0.0.34 depends on tensorflow>=1.9.0\n",
      "    deepface 0.0.33 depends on tensorflow>=1.9.0\n",
      "    deepface 0.0.32 depends on tensorflow>=1.9.0\n",
      "    deepface 0.0.31 depends on tensorflow>=1.9.0\n",
      "    deepface 0.0.30 depends on tensorflow>=1.9.0\n",
      "    deepface 0.0.26 depends on tensorflow>=1.9.0\n",
      "    deepface 0.0.25 depends on tensorflow>=1.9.0\n",
      "    deepface 0.0.24 depends on tensorflow>=1.9.0\n",
      "    deepface 0.0.23 depends on tensorflow>=1.9.0\n",
      "    deepface 0.0.22 depends on tensorflow>=1.9.0\n",
      "    deepface 0.0.21 depends on tensorflow>=1.9.0\n",
      "    deepface 0.0.20 depends on tensorflow>=1.9.0\n",
      "    deepface 0.0.19 depends on tensorflow>=1.9.0\n",
      "    deepface 0.0.18 depends on tensorflow>=1.9.0\n",
      "    deepface 0.0.16 depends on tensorflow>=1.9.0\n",
      "    deepface 0.0.15 depends on tensorflow>=1.9.0\n",
      "    deepface 0.0.14 depends on tensorflow>=1.9.0\n",
      "    deepface 0.0.13 depends on tensorflow>=1.9.0\n",
      "    deepface 0.0.12 depends on tensorflow>=1.9.0\n",
      "    deepface 0.0.11 depends on tensorflow>=1.9.0\n",
      "    deepface 0.0.10 depends on tensorflow>=1.9.0\n",
      "    deepface 0.0.9 depends on tensorflow>=1.9.0\n",
      "    deepface 0.0.7 depends on tensorflow>=1.9.0\n",
      "    deepface 0.0.6 depends on tensorflow>=1.9.0\n",
      "    deepface 0.0.5 depends on tensorflow>=1.9.0\n",
      "    deepface 0.0.4 depends on tensorflow>=1.9.0\n",
      "    deepface 0.0.3 depends on tensorflow>=1.9.0\n",
      "    deepface 0.0.2 depends on tensorflow>=1.9.0\n",
      "    deepface 0.0.1 depends on tensorflow>=1.9.0\n",
      "\n",
      "To fix this you could try to:\n",
      "1. loosen the range of package versions you've specified\n",
      "2. remove package versions to allow pip attempt to solve the dependency conflict\n",
      "\n",
      "\u001b[31mERROR: ResolutionImpossible: for help visit https://pip.pypa.io/en/latest/topics/dependency-resolution/#dealing-with-dependency-conflicts\u001b[0m\u001b[31m\n",
      "\u001b[0m"
     ]
    }
   ],
   "source": [
    "!pip3 install deepface"
   ]
  },
  {
   "cell_type": "code",
   "execution_count": 5,
   "metadata": {},
   "outputs": [
    {
     "name": "stdout",
     "output_type": "stream",
     "text": [
      "2.10.0\n"
     ]
    }
   ],
   "source": [
    "print(tf. __version__)"
   ]
  },
  {
   "cell_type": "code",
   "execution_count": 1,
   "metadata": {},
   "outputs": [
    {
     "ename": "ModuleNotFoundError",
     "evalue": "No module named 'deepface'",
     "output_type": "error",
     "traceback": [
      "\u001b[0;31m---------------------------------------------------------------------------\u001b[0m",
      "\u001b[0;31mModuleNotFoundError\u001b[0m                       Traceback (most recent call last)",
      "Cell \u001b[0;32mIn [1], line 3\u001b[0m\n\u001b[1;32m      1\u001b[0m \u001b[38;5;66;03m#emotion_detection.py\u001b[39;00m\n\u001b[1;32m      2\u001b[0m \u001b[38;5;28;01mimport\u001b[39;00m \u001b[38;5;21;01mcv2\u001b[39;00m\n\u001b[0;32m----> 3\u001b[0m \u001b[38;5;28;01mfrom\u001b[39;00m \u001b[38;5;21;01mdeepface\u001b[39;00m \u001b[38;5;28;01mimport\u001b[39;00m DeepFace\n\u001b[1;32m      4\u001b[0m \u001b[38;5;28;01mimport\u001b[39;00m \u001b[38;5;21;01mnumpy\u001b[39;00m \u001b[38;5;28;01mas\u001b[39;00m \u001b[38;5;21;01mnp\u001b[39;00m  \u001b[38;5;66;03m#this will be used later in the process\u001b[39;00m\n\u001b[1;32m      6\u001b[0m imgpath \u001b[38;5;241m=\u001b[39m \u001b[38;5;124m'\u001b[39m\u001b[38;5;124m/Users/anuhyakalvakala/Desktop/saikiran.jpg\u001b[39m\u001b[38;5;124m'\u001b[39m  \u001b[38;5;66;03m#put the image where this file is located and put its name here\u001b[39;00m\n",
      "\u001b[0;31mModuleNotFoundError\u001b[0m: No module named 'deepface'"
     ]
    }
   ],
   "source": [
    "#emotion_detection.py\n",
    "import cv2\n",
    "from deepface import DeepFace\n",
    "import numpy as np  #this will be used later in the process\n",
    "\n",
    "imgpath = '/Users/anuhyakalvakala/Desktop/saikiran.jpg'  #put the image where this file is located and put its name here\n",
    "image = cv2.imread(imgpath)\n",
    "\n",
    "analyze = DeepFace.analyze(image,actions=['emotions'])  #here the first parameter is the image we want to analyze #the second one there is the action\n",
    "print(analyze)"
   ]
  }
 ],
 "metadata": {
  "interpreter": {
   "hash": "f15ce68487ef8379c4e5e44414a72157719357783ba2348e59ce0b7a3476865b"
  },
  "kernelspec": {
   "display_name": "Python 3.9.7 ('virenv')",
   "language": "python",
   "name": "python3"
  },
  "language_info": {
   "codemirror_mode": {
    "name": "ipython",
    "version": 3
   },
   "file_extension": ".py",
   "mimetype": "text/x-python",
   "name": "python",
   "nbconvert_exporter": "python",
   "pygments_lexer": "ipython3",
   "version": "3.10.6"
  },
  "orig_nbformat": 4
 },
 "nbformat": 4,
 "nbformat_minor": 2
}
